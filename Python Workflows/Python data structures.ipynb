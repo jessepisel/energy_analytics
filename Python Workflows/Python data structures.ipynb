{
 "cells": [
  {
   "cell_type": "markdown",
   "metadata": {},
   "source": [
    "![Energy Analytics Logo](https://github.com/jessepisel/energy_analytics/blob/master/EA_logo.jpg?raw=true)"
   ]
  },
  {
   "cell_type": "markdown",
   "metadata": {},
   "source": [
    "# Introduction to Data Structures"
   ]
  },
  {
   "cell_type": "markdown",
   "metadata": {},
   "source": [
    "## Freshman Research Initiative Energy Analytics CS 309"
   ]
  },
  {
   "cell_type": "markdown",
   "metadata": {},
   "source": [
    "#### Jesse Pisel, Assistant Professor of Practice, University of Texas at Austin"
   ]
  },
  {
   "cell_type": "markdown",
   "metadata": {},
   "source": [
    "**[Twitter](http://twitter.com/geologyjesse)** | **[GitHub](https://github.com/jessepisel)** | **[GoogleScholar](https://scholar.google.com/citations?user=Z4JzYgIAAAAJ&hl=en&oi=ao)** | **[LinkedIn](https://www.linkedin.com/in/jesse-pisel-70519430/)**"
   ]
  },
  {
   "cell_type": "markdown",
   "metadata": {},
   "source": [
    "Now that we understand how variables work, and that we can assign different types of objects to variables, let's go ahead and learn about Python data structures. In this notebook we are going to cover the following data structures:\n",
    "+ `list`\n",
    "+ `tuple`\n",
    "+ `dictionary`\n",
    "+ `set`"
   ]
  },
  {
   "cell_type": "markdown",
   "metadata": {},
   "source": [
    "Let's start with the `list`. Imagine for a second that you have a collection of numbers that you would like to store in memory, but don't want to have to create a variable for each number. This is where a `list` comes in handy. Let's make our first `list`"
   ]
  },
  {
   "cell_type": "code",
   "execution_count": 1,
   "metadata": {},
   "outputs": [],
   "source": [
    "first_list = [0, 1, 2, 3, 4, 5, 6, 7, 8, 9, 10, 10000]\n",
    "# note the square brackets"
   ]
  },
  {
   "cell_type": "markdown",
   "metadata": {},
   "source": [
    "Great! now we have a `list` that contains 12 integers. Just like variables we can create lists with `int`, `float`, `str`, or `bool` data types. Now that we have `list`, we want to be able to access the different values in the list. This is done with something called an `index`. Each item in the list is assigned an `index` value that starts at zero and is proportional to the length of the list. So in `first_list` value 10000 has an index of 11. So let's use the index to get that value"
   ]
  },
  {
   "cell_type": "code",
   "execution_count": 2,
   "metadata": {},
   "outputs": [
    {
     "data": {
      "text/plain": [
       "10000"
      ]
     },
     "execution_count": 2,
     "metadata": {},
     "output_type": "execute_result"
    }
   ],
   "source": [
    "first_list[11]"
   ]
  },
  {
   "cell_type": "markdown",
   "metadata": {},
   "source": [
    "Now let's make a second list with strings"
   ]
  },
  {
   "cell_type": "code",
   "execution_count": 3,
   "metadata": {},
   "outputs": [
    {
     "data": {
      "text/plain": [
       "'Colorado'"
      ]
     },
     "execution_count": 3,
     "metadata": {},
     "output_type": "execute_result"
    }
   ],
   "source": [
    "second_list = [\"Texas\", \"New Mexico\", \"Colorado\", \"Wyoming\", \"Montana\"]\n",
    "# and let's use the index to get the third item 'Colorado'\n",
    "second_list[2]  # remember the list index starts at 0"
   ]
  },
  {
   "cell_type": "markdown",
   "metadata": {},
   "source": [
    "We have seen how to build lists, but what if we want to add to `second_list`? We use `append`"
   ]
  },
  {
   "cell_type": "code",
   "execution_count": 4,
   "metadata": {},
   "outputs": [],
   "source": [
    "second_list.append(\"Alberta\")\n",
    "second_list.append(\"Northwest Territories\")"
   ]
  },
  {
   "cell_type": "code",
   "execution_count": 5,
   "metadata": {},
   "outputs": [
    {
     "name": "stdout",
     "output_type": "stream",
     "text": [
      "['Texas', 'New Mexico', 'Colorado', 'Wyoming', 'Montana', 'Alberta', 'Northwest Territories']\n"
     ]
    }
   ],
   "source": [
    "print(second_list)"
   ]
  },
  {
   "cell_type": "markdown",
   "metadata": {},
   "source": [
    "We can also get items by using the index from the end of the list. Let's say we want to get the second to last item in the list (`Alberta`) we use:"
   ]
  },
  {
   "cell_type": "code",
   "execution_count": 6,
   "metadata": {},
   "outputs": [
    {
     "data": {
      "text/plain": [
       "'Alberta'"
      ]
     },
     "execution_count": 6,
     "metadata": {},
     "output_type": "execute_result"
    }
   ],
   "source": [
    "second_list[-2]"
   ]
  },
  {
   "cell_type": "markdown",
   "metadata": {},
   "source": [
    "Our next data structure type is the `tuple`. Tuples are like lists, however they are immutable. This means that you cannot modify them. "
   ]
  },
  {
   "cell_type": "code",
   "execution_count": 7,
   "metadata": {},
   "outputs": [],
   "source": [
    "first_tuple = (3.14, 2.78, -1, 1000)\n",
    "# note the parentheses, not necessary but good to use"
   ]
  },
  {
   "cell_type": "code",
   "execution_count": 8,
   "metadata": {},
   "outputs": [
    {
     "data": {
      "text/plain": [
       "2.78"
      ]
     },
     "execution_count": 8,
     "metadata": {},
     "output_type": "execute_result"
    }
   ],
   "source": [
    "# we can use indexing to call values from a tuple\n",
    "first_tuple[1]"
   ]
  },
  {
   "cell_type": "markdown",
   "metadata": {},
   "source": [
    "Tuples are used in cases where we can assume that the collection of values will not change. "
   ]
  },
  {
   "cell_type": "markdown",
   "metadata": {},
   "source": [
    "Next up on our Python data structures is a `dictionary`. Dictionaries use key-value pairs to store the data in memory. This means that instead of using an index to call a value, we can use the key to call the value."
   ]
  },
  {
   "cell_type": "code",
   "execution_count": 9,
   "metadata": {},
   "outputs": [],
   "source": [
    "first_dict = {\"State\": \"Texas\", \"City\": \"Austin\", \"Temperature\": 95}\n",
    "# note curly brackets"
   ]
  },
  {
   "cell_type": "markdown",
   "metadata": {},
   "source": [
    "Let's call the value `Texas` from the `dict` using its key"
   ]
  },
  {
   "cell_type": "code",
   "execution_count": 10,
   "metadata": {},
   "outputs": [
    {
     "data": {
      "text/plain": [
       "'Texas'"
      ]
     },
     "execution_count": 10,
     "metadata": {},
     "output_type": "execute_result"
    }
   ],
   "source": [
    "first_dict[\"State\"]"
   ]
  },
  {
   "cell_type": "markdown",
   "metadata": {},
   "source": [
    "So instead of using an index value, we simply use a key to look up the value. But how do we add additional values to the `dict` like we did to the `list` above? It's actually pretty easy, we just add the key in square brackets and assign it to the value"
   ]
  },
  {
   "cell_type": "code",
   "execution_count": 11,
   "metadata": {},
   "outputs": [],
   "source": [
    "first_dict[\"Hot\"] = True"
   ]
  },
  {
   "cell_type": "code",
   "execution_count": 12,
   "metadata": {},
   "outputs": [
    {
     "name": "stdout",
     "output_type": "stream",
     "text": [
      "{'State': 'Texas', 'City': 'Austin', 'Temperature': 95, 'Hot': True}\n"
     ]
    }
   ],
   "source": [
    "print(first_dict)"
   ]
  },
  {
   "cell_type": "markdown",
   "metadata": {},
   "source": [
    "Lastly let's talk about the `set`. A set is an unordered collection of objects. We use sets when we are more interested in the existence of an object in a collection rather than the order or number of times it appears"
   ]
  },
  {
   "cell_type": "code",
   "execution_count": 13,
   "metadata": {},
   "outputs": [],
   "source": [
    "first_set = set([\"porosity\", \"permeability\", \"velocity\", \"api\"])\n",
    "# note set() and square brackets"
   ]
  },
  {
   "cell_type": "code",
   "execution_count": 14,
   "metadata": {},
   "outputs": [
    {
     "data": {
      "text/plain": [
       "True"
      ]
     },
     "execution_count": 14,
     "metadata": {},
     "output_type": "execute_result"
    }
   ],
   "source": [
    "\"porosity\" in first_set"
   ]
  },
  {
   "cell_type": "markdown",
   "metadata": {},
   "source": [
    "We can add or remove items from the set using `add` and `remove`"
   ]
  },
  {
   "cell_type": "code",
   "execution_count": 15,
   "metadata": {},
   "outputs": [
    {
     "data": {
      "text/plain": [
       "{'api', 'gamma ray', 'permeability', 'porosity', 'velocity'}"
      ]
     },
     "execution_count": 15,
     "metadata": {},
     "output_type": "execute_result"
    }
   ],
   "source": [
    "first_set.add(\"gamma ray\")\n",
    "first_set  # note it sorts alphabetically"
   ]
  },
  {
   "cell_type": "code",
   "execution_count": 16,
   "metadata": {},
   "outputs": [
    {
     "data": {
      "text/plain": [
       "{'gamma ray', 'permeability', 'porosity', 'velocity'}"
      ]
     },
     "execution_count": 16,
     "metadata": {},
     "output_type": "execute_result"
    }
   ],
   "source": [
    "first_set.remove(\"api\")\n",
    "first_set"
   ]
  },
  {
   "cell_type": "markdown",
   "metadata": {},
   "source": [
    "Now that we have covered the `list`, `dict`, `tuple`, and `set`, let's take a look at how we can use a `for` loop to go through data structures. We will start with list iteration on our `second_list` from above"
   ]
  },
  {
   "cell_type": "code",
   "execution_count": 17,
   "metadata": {},
   "outputs": [
    {
     "name": "stdout",
     "output_type": "stream",
     "text": [
      "Texas\n",
      "New Mexico\n",
      "Colorado\n",
      "Wyoming\n",
      "Montana\n",
      "Alberta\n",
      "Northwest Territories\n"
     ]
    }
   ],
   "source": [
    "for location in second_list:\n",
    "    print(location)"
   ]
  },
  {
   "cell_type": "markdown",
   "metadata": {},
   "source": [
    "How about the `first_dict`?"
   ]
  },
  {
   "cell_type": "code",
   "execution_count": 18,
   "metadata": {},
   "outputs": [
    {
     "name": "stdout",
     "output_type": "stream",
     "text": [
      "State --> Texas\n",
      "City --> Austin\n",
      "Temperature --> 95\n",
      "Hot --> True\n"
     ]
    }
   ],
   "source": [
    "for key in first_dict:\n",
    "    print(\"%s --> %s\" % (key, first_dict[key]))"
   ]
  },
  {
   "cell_type": "markdown",
   "metadata": {},
   "source": [
    "We can also use the `iteritems` method as well"
   ]
  },
  {
   "cell_type": "code",
   "execution_count": 19,
   "metadata": {},
   "outputs": [
    {
     "name": "stdout",
     "output_type": "stream",
     "text": [
      "State --> Texas\n",
      "City --> Austin\n",
      "Temperature --> 95\n",
      "Hot --> True\n"
     ]
    }
   ],
   "source": [
    "for key, value in first_dict.items():\n",
    "    print(\"%s --> %s\" % (key, value))"
   ]
  },
  {
   "cell_type": "markdown",
   "metadata": {},
   "source": [
    "Can you create a `for` loop to loop through the `first_tuple` above to print out the values?"
   ]
  }
 ],
 "metadata": {
  "kernelspec": {
   "display_name": "Python 3",
   "language": "python",
   "name": "python3"
  },
  "language_info": {
   "codemirror_mode": {
    "name": "ipython",
    "version": 3
   },
   "file_extension": ".py",
   "mimetype": "text/x-python",
   "name": "python",
   "nbconvert_exporter": "python",
   "pygments_lexer": "ipython3",
   "version": "3.6.5"
  }
 },
 "nbformat": 4,
 "nbformat_minor": 2
}
