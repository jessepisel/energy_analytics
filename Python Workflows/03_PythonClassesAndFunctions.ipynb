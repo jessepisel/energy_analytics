{
 "cells": [
  {
   "cell_type": "markdown",
   "metadata": {},
   "source": [
    "<p align=\"center\">\n",
    "    <img src=\"https://github.com/jessepisel/energy_analytics/blob/master/EA_logo.jpg?raw=true\" width=\"220\" height=\"240\" />\n",
    "\n",
    "</p>"
   ]
  },
  {
   "cell_type": "markdown",
   "metadata": {},
   "source": [
    "# Introduction to Functions and Classes"
   ]
  },
  {
   "cell_type": "markdown",
   "metadata": {},
   "source": [
    "## Freshman Research Initiative Energy Analytics CS 309"
   ]
  },
  {
   "cell_type": "markdown",
   "metadata": {},
   "source": [
    "#### Jesse Pisel, Assistant Professor of Practice, University of Texas at Austin"
   ]
  },
  {
   "cell_type": "markdown",
   "metadata": {},
   "source": [
    "**[Twitter](http://twitter.com/geologyjesse)** | **[GitHub](https://github.com/jessepisel)** | **[GoogleScholar](https://scholar.google.com/citations?user=Z4JzYgIAAAAJ&hl=en&oi=ao)** | **[LinkedIn](https://www.linkedin.com/in/jesse-pisel-70519430/)**"
   ]
  },
  {
   "cell_type": "markdown",
   "metadata": {},
   "source": [
    "This week we are going to learn about the Python `class` and `function` and how they are used in data analytics. First we will create a `class` and then we will create an `instance` of that `class`."
   ]
  },
  {
   "cell_type": "markdown",
   "metadata": {},
   "source": [
    "## Functions\n",
    "\n",
    "A function is a block of code that runs only when called. We can pass data (parameters) into a function, and it returns data as a result. In this notebook we will learn about functions and classes. Functions are typically the things that make up classes, so let's look at how to make a function first. All it takes to define a function is the keyword `def`. Let's create a function that returns a `print` statement."
   ]
  },
  {
   "cell_type": "code",
   "execution_count": 1,
   "metadata": {},
   "outputs": [],
   "source": [
    "def reservoir_function():\n",
    "    print(\"This is our reservoir function\")\n",
    "\n",
    "\n",
    "# once it is defined, we only need to call it!"
   ]
  },
  {
   "cell_type": "code",
   "execution_count": 2,
   "metadata": {},
   "outputs": [
    {
     "name": "stdout",
     "output_type": "stream",
     "text": [
      "This is our reservoir function\n"
     ]
    }
   ],
   "source": [
    "reservoir_function()"
   ]
  },
  {
   "cell_type": "markdown",
   "metadata": {},
   "source": [
    "Well that's pretty boring, how do we pass information into a function with parameters? We simply place the parameters inside the parenthesis and separate them with commas. Let's define a function that calculates porosity (Phi) from pore volume (Vp) and total volume (Vt). The equation looks like this:\n",
    "\n",
    "$$ \\phi = \\frac{V_p}{V_t}$$\n",
    "\n",
    "The parameters we need to pass to the `function` are Vp and Vt, and we want it to return Phi"
   ]
  },
  {
   "cell_type": "code",
   "execution_count": 3,
   "metadata": {},
   "outputs": [],
   "source": [
    "def porosity(Vp, Vt):\n",
    "    phi = (Vp / Vt) * 100  # multiply by 100 to get percent\n",
    "    return phi"
   ]
  },
  {
   "cell_type": "markdown",
   "metadata": {},
   "source": [
    "To call our porosity function we simply fill in the values for Vp and Vt:"
   ]
  },
  {
   "cell_type": "code",
   "execution_count": 4,
   "metadata": {},
   "outputs": [
    {
     "name": "stdout",
     "output_type": "stream",
     "text": [
      "The porosity is 10.0 percent\n"
     ]
    }
   ],
   "source": [
    "print(\"The porosity is %s percent\" % porosity(0.5, 5.0))"
   ]
  },
  {
   "cell_type": "markdown",
   "metadata": {},
   "source": [
    "We can also pass lists to functions. Here we just have a function that loops through a list and prints all of the strings in the list:"
   ]
  },
  {
   "cell_type": "code",
   "execution_count": 5,
   "metadata": {},
   "outputs": [
    {
     "name": "stdout",
     "output_type": "stream",
     "text": [
      "F1\n",
      "F2\n",
      "F3\n",
      "F4\n"
     ]
    }
   ],
   "source": [
    "def whatFacies(facies_list):\n",
    "    for facie in facies_list:\n",
    "        print(facie)\n",
    "\n",
    "\n",
    "facies = [\"F1\", \"F2\", \"F3\", \"F4\"]\n",
    "\n",
    "whatFacies(facies)"
   ]
  },
  {
   "cell_type": "markdown",
   "metadata": {},
   "source": [
    "## Lambda Functions"
   ]
  },
  {
   "cell_type": "markdown",
   "metadata": {},
   "source": [
    "Lambda functions are small anonymous functions that can take any number of arguments, but they only have one expression. Our `porosity` function from above can be expressed as a lambda function"
   ]
  },
  {
   "cell_type": "code",
   "execution_count": 6,
   "metadata": {},
   "outputs": [
    {
     "data": {
      "text/plain": [
       "10.0"
      ]
     },
     "execution_count": 6,
     "metadata": {},
     "output_type": "execute_result"
    }
   ],
   "source": [
    "lambda_porosity = lambda Vp, Vt: (Vp / Vt) * 100\n",
    "lambda_porosity(0.5, 5.0)"
   ]
  },
  {
   "cell_type": "markdown",
   "metadata": {},
   "source": [
    "Lambda functions are great for using inside other functions and help keep our code readable! Now that we know how to construct functions and how they work, let's look at classes!"
   ]
  },
  {
   "cell_type": "markdown",
   "metadata": {},
   "source": [
    "## Classes\n",
    "\n",
    "**So what is a class?**\n",
    "\n",
    "A class is a way to create a more complicated data structure than we could create using a `list`, `set`, `tuple`, or `dict`. For example, we can create a `Well` class that keeps track of things like `total depth`, `operator`, `name`, `reservoir` or other attributes.\n",
    "\n",
    "To create a `class` we first need to learn about `instances`. While `classes` lay out how the data is structured, an `instance` is a copy of a `class` that contains the information. Following from our `Well` `class` example above, we can create a well instance `Federal 1` with total depth of `5,280`, operator of `Horizontal Oil`, name of `Federal 1`, and a reservoir of `Cretaceous Shale`. \n",
    "\n",
    "What we are doing is taking a standard format (total depth, operator, name, reservoir) and filling in unique values. Much like filling out a web form! Now let's create the well class below."
   ]
  },
  {
   "cell_type": "code",
   "execution_count": 7,
   "metadata": {},
   "outputs": [],
   "source": [
    "# the word class specifies that we are creating a class, the next word is the name of the class\n",
    "# the word in parenthesis is the class that our well object is inheriting from, more on that below\n",
    "class Well(object):\n",
    "    def __init__(\n",
    "        self, total_depth, operator, name, reservoir\n",
    "    ):  # initialize with init method\n",
    "        self.total_depth = total_depth\n",
    "        self.operator = operator\n",
    "        self.name = name\n",
    "        self.reservoir = reservoir\n",
    "\n",
    "    def get_TD(self):\n",
    "        return self.total_depth\n",
    "\n",
    "    def get_operator(self):\n",
    "        return self.operator\n",
    "\n",
    "    def get_name(self):\n",
    "        return self.name\n",
    "\n",
    "    def get_reservoir(self):\n",
    "        return self.reservoir\n",
    "\n",
    "    def __str__(self):\n",
    "        return (\n",
    "            \"The %s is operated by %s and is completed in the %s, with a total depth of %s\"\n",
    "            % (self.name, self.operator, self.reservoir, self.total_depth)\n",
    "        )"
   ]
  },
  {
   "cell_type": "markdown",
   "metadata": {},
   "source": [
    "Let's break down what we just ran above. In lines 4-8 we initialized the `class` with the `__init__` method. A method is a term for a function that is part of a `class`. We use `__init__` when we first create a class.\n",
    "\n",
    "The `self` variable is an instance of the `class`, so it has the structure of the class, but we want to make sure that the `self` `instance` has different values than any other instance. This is why we call `self.name = name`.\n",
    "\n",
    "On lines 10-20 we define methods so that we can get the data we put into the instance. `get_TD` takes an instance of a `Well` and looks up that specific wells `total_depth`. The rest of the methods do the same thing but for the other values (operator, name, reservoir). We need to use the `self` parameter so that the method knows which instance of `Well` to operate on. \n",
    "\n",
    "Let's create a `Well` instance with the fictional information from above and assign that to a `variable` named well_1"
   ]
  },
  {
   "cell_type": "code",
   "execution_count": 8,
   "metadata": {},
   "outputs": [],
   "source": [
    "well_1 = Well(5280, \"Horizontal Oil\", \"Federal 1\", \"Cretaceous Shale\")"
   ]
  },
  {
   "cell_type": "markdown",
   "metadata": {},
   "source": [
    "Now we that we have assigned the `instance` to a `variable`, we can call the different `methods` in the `class`."
   ]
  },
  {
   "cell_type": "code",
   "execution_count": 9,
   "metadata": {},
   "outputs": [
    {
     "name": "stdout",
     "output_type": "stream",
     "text": [
      "5280\n",
      "Horizontal Oil\n",
      "Federal 1\n",
      "Cretaceous Shale\n"
     ]
    }
   ],
   "source": [
    "print(well_1.get_TD())\n",
    "print(well_1.get_operator())\n",
    "print(well_1.get_name())\n",
    "print(well_1.get_reservoir())"
   ]
  },
  {
   "cell_type": "markdown",
   "metadata": {},
   "source": [
    "The last method is the `__str__` method which is defined for all Python classes. We can specify our own version of any built-in method (called overriding the method) by using the special double underscore. When we do this, we are defining the behavior when we pring any `instance` of the `Well` class"
   ]
  },
  {
   "cell_type": "code",
   "execution_count": 10,
   "metadata": {},
   "outputs": [
    {
     "name": "stdout",
     "output_type": "stream",
     "text": [
      "The Federal 1 is operated by Horizontal Oil and is completed in the Cretaceous Shale, with a total depth of 5280\n"
     ]
    }
   ],
   "source": [
    "print(well_1)"
   ]
  },
  {
   "cell_type": "markdown",
   "metadata": {},
   "source": [
    "## Subclasses\n",
    "\n",
    "Occasionally we want to define a class that might be part of a larger class. For example maybe we want to define a new `class` that is part of the `Well` `class`, but is also specifically for horizontal wells. Subclasses give us the structure (remember the web form) of the `Well` class, but we can add in any other information we might want. Let's create a `Horizontal` subclass of the `Well` class below."
   ]
  },
  {
   "cell_type": "code",
   "execution_count": 11,
   "metadata": {},
   "outputs": [],
   "source": [
    "class Horizontal(Well):\n",
    "    def __init__(self, total_depth, operator, name, status):\n",
    "        Well.__init__(self, total_depth, operator, name, \"Cretaceous Shale\")\n",
    "        self.status = status  # well status ie - producing or abandoned\n",
    "\n",
    "    def status(self):\n",
    "        return self.status"
   ]
  },
  {
   "cell_type": "markdown",
   "metadata": {},
   "source": [
    "What we just did above is we made sure that all the `Horizontal` wells have the reservoir of `'Cretaceous Shale'` and added a place to record the status of the well. We did this by overriding with our own initilization function. We also called the parent class initialization function, because we still want all the other fields to be initialized. We can do the same thing for `Vertical` wells below."
   ]
  },
  {
   "cell_type": "code",
   "execution_count": 12,
   "metadata": {},
   "outputs": [],
   "source": [
    "class Vertical(Well):\n",
    "    def __init__(self, total_depth, operator, name, status):\n",
    "        Well.__init__(\n",
    "            self, total_depth, operator, name, \"Cretaceous Sandstone\"\n",
    "        )\n",
    "        self.status = status\n",
    "\n",
    "    def status(self):\n",
    "        return self.status"
   ]
  },
  {
   "cell_type": "markdown",
   "metadata": {},
   "source": [
    "Now let's create an instance of `Horizontal` and `Vertical`"
   ]
  },
  {
   "cell_type": "code",
   "execution_count": 13,
   "metadata": {},
   "outputs": [],
   "source": [
    "well_1H = Horizontal(15000, \"Big Operator Oil\", \"Federal 1-H\", \"Producing\")\n",
    "well_1V = Vertical(2000, \"Ma and Pa Oil\", \"State #21-1\", \"Abandoned\")"
   ]
  },
  {
   "cell_type": "code",
   "execution_count": 14,
   "metadata": {},
   "outputs": [
    {
     "name": "stdout",
     "output_type": "stream",
     "text": [
      "The Federal 1-H is operated by Big Operator Oil and is completed in the Cretaceous Shale, with a total depth of 15000\n"
     ]
    }
   ],
   "source": [
    "print(well_1H)"
   ]
  },
  {
   "cell_type": "code",
   "execution_count": 15,
   "metadata": {},
   "outputs": [
    {
     "name": "stdout",
     "output_type": "stream",
     "text": [
      "The State #21-1 is operated by Ma and Pa Oil and is completed in the Cretaceous Sandstone, with a total depth of 2000\n"
     ]
    }
   ],
   "source": [
    "print(well_1V)"
   ]
  },
  {
   "cell_type": "markdown",
   "metadata": {},
   "source": [
    "The `Horizontal` and `Vertical` subclasses inherited the methods from the `Well` class, so we can call those methods on the subclasses."
   ]
  },
  {
   "cell_type": "code",
   "execution_count": 16,
   "metadata": {},
   "outputs": [
    {
     "data": {
      "text/plain": [
       "15000"
      ]
     },
     "execution_count": 16,
     "metadata": {},
     "output_type": "execute_result"
    }
   ],
   "source": [
    "well_1H.get_TD()"
   ]
  },
  {
   "cell_type": "code",
   "execution_count": 17,
   "metadata": {},
   "outputs": [
    {
     "data": {
      "text/plain": [
       "'Ma and Pa Oil'"
      ]
     },
     "execution_count": 17,
     "metadata": {},
     "output_type": "execute_result"
    }
   ],
   "source": [
    "well_1V.get_operator()"
   ]
  },
  {
   "cell_type": "markdown",
   "metadata": {},
   "source": [
    "This is a quick introduction to functions and classes. In the next notebook we will look at modules"
   ]
  }
 ],
 "metadata": {
  "kernelspec": {
   "display_name": "Python 3",
   "language": "python",
   "name": "python3"
  },
  "language_info": {
   "codemirror_mode": {
    "name": "ipython",
    "version": 3
   },
   "file_extension": ".py",
   "mimetype": "text/x-python",
   "name": "python",
   "nbconvert_exporter": "python",
   "pygments_lexer": "ipython3",
   "version": "3.6.7"
  }
 },
 "nbformat": 4,
 "nbformat_minor": 2
}
