{
 "cells": [
  {
   "cell_type": "markdown",
   "metadata": {
    "raw_mimetype": "text/markdown",
    "slideshow": {
     "slide_type": "slide"
    }
   },
   "source": [
    "<p align=\"center\">\n",
    "    <center><img src=pumpjack.jpg width=\"400\" height=\"400\" /></center>\n",
    "\n",
    "</p>"
   ]
  },
  {
   "cell_type": "markdown",
   "metadata": {
    "slideshow": {
     "slide_type": "slide"
    }
   },
   "source": [
    "<center><h1>Hingle Basin </h1></center>\n",
    "\n",
    "Welcome to Hingle Basin, the hottest unconventional oil play in the state. Here in Hingle Basin, oil companies are targeting the McCringleberry Formation which is an Upper Cretaceous limestone that is in the oil window throughout the basin. Your company has leased almost 360 square miles in what your exploration team thinks is going to be the most productive part of the basin. As part of the lease agreement, your company is now the sole operator for 100 horizontal wells drilled in the area. "
   ]
  },
  {
   "cell_type": "markdown",
   "metadata": {
    "slideshow": {
     "slide_type": "slide"
    }
   },
   "source": [
    "### Completion and Rock Property Data\n",
    "The drilled and completed wells come with the following data along the wellbore path:\n",
    "\n",
    "* Easting (x location in feet)\n",
    "* Northing (y location in feet)\n",
    "* Porosity (%)\n",
    "* Permeability (mD)\n",
    "* Poisson's Ratio (unitless)\n",
    "* Young's Modulus (Pascals)\n",
    "* Water saturation (%)\n",
    "* Oil saturation (%)\n",
    "* Formation thickness (ft)\n",
    "* Proppant weight (pounds)\n",
    "* Pump rate (cubic feet per minute)\n",
    "\n",
    "\n",
    "![data layout](wellbore_data.jpg)"
   ]
  },
  {
   "cell_type": "markdown",
   "metadata": {
    "slideshow": {
     "slide_type": "slide"
    }
   },
   "source": [
    "### Production and Reservoir Data\n",
    "\n",
    "Additionally, the production engineers have compiled a spread sheet with other reservoir parameters and production:\n",
    "\n",
    "* Well name (Name of the well)\n",
    "* Average Pressure (reservoir pressure in Pascals)\n",
    "* Recovery factor (%)\n",
    "* Formation volume factor (unitless)\n",
    "* Oil n (Nth months oil production in barrels)\n",
    "* Water n (Nth months water production in barrels)\n",
    "\n",
    "![data layout](production_data.jpg)"
   ]
  },
  {
   "cell_type": "markdown",
   "metadata": {
    "slideshow": {
     "slide_type": "slide"
    }
   },
   "source": [
    "### Spatial Data\n",
    "\n",
    "Here is what the data looks like from above with the wellbore paths are the black lines, and the nearby towns of Waxon, Flaxon, and Jaxon are represented by orange squares\n",
    "\n",
    "![location data](well_locations.jpg)"
   ]
  },
  {
   "cell_type": "markdown",
   "metadata": {
    "slideshow": {
     "slide_type": "slide"
    }
   },
   "source": [
    "### Goals\n",
    "Because of your background in data analytics, your boss has tasked you with the following for your company's leases in Hingle Basin:\n",
    "\n",
    "1. Optimize the following to maximize production:\n",
    "    1. Well length\n",
    "    2. Number of frac stages\n",
    "    3. Amount of proppant in each stage\n",
    "    4. Pump rate\n",
    "2. Use your optimized well parameters to choose the location for the next 10 wells\n",
    "3. Calculate the original oil in place (OOIP) for each well\n",
    "4. Calculate the recoverable reserves (RR) for each well\n",
    "5. Calculate the estimated ultimate recovery (EUR) for each well"
   ]
  },
  {
   "cell_type": "markdown",
   "metadata": {},
   "source": [
    "### Deliverables for each team\n",
    "* One well-commented jupyter `notebook` with your analysis of the datasets and how you came to your conclusions\n",
    "* For each proposed well include the following:\n",
    "    * Easting and northing of the surface location\n",
    "    * Length of the well\n",
    "    * Number of frac stages\n",
    "    * Amount of proppant for each stage\n",
    "    * pump rate\n",
    "    * Original oil in place\n",
    "    * Recoverable reserves\n",
    "    * Estimated ultimate recovery\n",
    "* One 15 minute team presentation that includes the following:\n",
    "    * Each team member must discuss some aspect of the study (background, analysis, results, discussion, conclusions, etc.)\n",
    "    * How the team completed the analysis\n",
    "    * Results of the optimized completions\n",
    "    * Locations of the next 10 wells\n",
    "    * Total original oil in place for the 10 wells (summed OOIP)\n",
    "    * Total recoverable reserves for the 10 wells (summed RR)\n",
    "    * Total estimated ultimate recovery for the 10 wells (summed EUR)\n",
    "    * Recommendations for future work\n",
    "    * Recommendations for future data collection"
   ]
  },
  {
   "cell_type": "markdown",
   "metadata": {
    "slideshow": {
     "slide_type": "slide"
    }
   },
   "source": [
    "## Here are some formulas that may prove handy\n",
    "\n",
    "### Original oil in place \n",
    "\n",
    "$OOIP(STB) = \\frac{7758AH\\phi(1-S_{w})}{FVF}$\n",
    "\n",
    "* where $A$ is the area of the reservoir (acres), $H$ is the thickness of the reservoir (feet), $\\phi$ is porosity (%), $Sw$ is water saturation (%), and $FVF$ is the formation volume factor which is a constant "
   ]
  },
  {
   "cell_type": "markdown",
   "metadata": {
    "slideshow": {
     "slide_type": "slide"
    }
   },
   "source": [
    "### Recoverable reserves\n",
    "\n",
    "$RR = OOIP*RF$\n",
    "\n",
    "* $OOIP$ is original oil in place (bbl), and $RF$ is the recovery factor (dimensionless)"
   ]
  },
  {
   "cell_type": "markdown",
   "metadata": {
    "slideshow": {
     "slide_type": "slide"
    }
   },
   "source": [
    "### Rate of initial production\n",
    "\n",
    "$q_{t} = q_{i}e^{-Dt}$\n",
    "\n",
    "* where $q_{t}$ is the production rate (BOPD) at time $t$ (years), $q_{i}$ is the initial production rate (BOPD), and $D$ is the decline rate fraction"
   ]
  },
  {
   "cell_type": "markdown",
   "metadata": {
    "slideshow": {
     "slide_type": "slide"
    }
   },
   "source": [
    "### Life of reservoir\n",
    "\n",
    "$t = (\\frac{1}{D})ln\\frac{q_{i}}{q_{ec}}$\n",
    "\n",
    "* where $t$ is time (years), $D$ is the decline rate fraction, $q_{i}$ is the initial production rate (BOPD), and $q_{ec}$ is the economic limit rate of production (BOPD)"
   ]
  },
  {
   "cell_type": "markdown",
   "metadata": {
    "slideshow": {
     "slide_type": "slide"
    }
   },
   "source": [
    "### Cumulative production\n",
    "\n",
    "$N_{p} = (\\frac{q_{i}}{D})ln(\\frac{q_{i}}{q})$\n",
    "\n",
    "* where $N_{p}$ is the cumulative production (bbl), $q_{i}$ is the initial production rate (BOPD), $D$ is the decline rate fraction, and $q$ is the current production rate"
   ]
  }
 ],
 "metadata": {
  "kernelspec": {
   "display_name": "Python 3",
   "language": "python",
   "name": "python3"
  },
  "language_info": {
   "codemirror_mode": {
    "name": "ipython",
    "version": 3
   },
   "file_extension": ".py",
   "mimetype": "text/x-python",
   "name": "python",
   "nbconvert_exporter": "python",
   "pygments_lexer": "ipython3",
   "version": "3.6.7"
  }
 },
 "nbformat": 4,
 "nbformat_minor": 4
}
